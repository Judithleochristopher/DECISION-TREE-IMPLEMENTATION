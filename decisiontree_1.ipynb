
from sklearn.datasets import load_breast_cancer
from sklearn.tree import DecisionTreeClassifier, plot_tree
from sklearn.model_selection import train_test_split
from sklearn.metrics import classification_report, confusion_matrix, accuracy_score
import matplotlib.pyplot as plt
import seaborn as sns
import pandas as pd


cancer = load_breast_cancer()
X = cancer.data
y = cancer.target


df = pd.DataFrame(X, columns=cancer.feature_names)
df['target'] = y
df['label'] = df['target'].apply(lambda i: cancer.target_names[i])
df.head()


X_train, X_test, y_train, y_test = train_test_split(
    X, y, test_size=0.2, random_state=42
)

clf = DecisionTreeClassifier(criterion='entropy', random_state=42)
clf.fit(X_train, y_train)


y_pred = clf.predict(X_test)

print("Accuracy Score:", accuracy_score(y_test, y_pred))
print("\nClassification Report:\n", classification_report(y_test, y_pred))

conf_matrix = confusion_matrix(y_test, y_pred)
sns.heatmap(conf_matrix, annot=True, fmt="d", cmap="Greens",
            xticklabels=cancer.target_names, yticklabels=cancer.target_names)
plt.xlabel("Predicted")
plt.ylabel("Actual")
plt.title("Confusion Matrix")
plt.show()


plt.figure(figsize=(20,10))
plot_tree(clf, filled=True,
          feature_names=cancer.feature_names,
          class_names=cancer.target_names,
          rounded=True,
          fontsize=10)
plt.title("Decision Tree - Breast Cancer Classification")
plt.show()

